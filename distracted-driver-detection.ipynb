{
 "cells": [
  {
   "cell_type": "markdown",
   "id": "654e883d",
   "metadata": {
    "papermill": {
     "duration": 0.013473,
     "end_time": "2021-09-08T18:42:26.880903",
     "exception": false,
     "start_time": "2021-09-08T18:42:26.867430",
     "status": "completed"
    },
    "tags": []
   },
   "source": [
    "# **Distracted Driver Detection**\n",
    "\n",
    "*Problem statement*: Given the dataset consisting of driver images in car and corresponding labels for 10 nos. categories (e.g. safe driving, texting, talking etc.), your task is to build a classification model to predict the category for that image.\n",
    "\n",
    "I have used a pretrained model and tried to implement my code with the help of EfficientNets."
   ]
  },
  {
   "cell_type": "markdown",
   "id": "a3e30d0f",
   "metadata": {
    "papermill": {
     "duration": 0.012608,
     "end_time": "2021-09-08T18:42:26.906053",
     "exception": false,
     "start_time": "2021-09-08T18:42:26.893445",
     "status": "completed"
    },
    "tags": []
   },
   "source": [
    "**Importing Required Libraries**"
   ]
  },
  {
   "cell_type": "code",
   "execution_count": 1,
   "id": "fef90964",
   "metadata": {
    "execution": {
     "iopub.execute_input": "2021-09-08T18:42:26.945013Z",
     "iopub.status.busy": "2021-09-08T18:42:26.944485Z",
     "iopub.status.idle": "2021-09-08T18:42:31.288745Z",
     "shell.execute_reply": "2021-09-08T18:42:31.288154Z",
     "shell.execute_reply.started": "2021-09-08T14:46:19.545738Z"
    },
    "papermill": {
     "duration": 4.370154,
     "end_time": "2021-09-08T18:42:31.288901",
     "exception": false,
     "start_time": "2021-09-08T18:42:26.918747",
     "status": "completed"
    },
    "tags": []
   },
   "outputs": [],
   "source": [
    "import os\n",
    "import pandas as pd\n",
    "import numpy as np\n",
    "import matplotlib.pyplot as plt\n",
    "%matplotlib inline\n",
    "\n",
    "import tensorflow as tf\n",
    "from tensorflow.keras.preprocessing.image import ImageDataGenerator\n",
    "from keras import Model\n",
    "from keras.layers import Input, GlobalAveragePooling2D, BatchNormalization, Dropout, Dense\n",
    "from tensorflow.keras.applications import EfficientNetB3\n",
    "from keras.callbacks import ModelCheckpoint, EarlyStopping"
   ]
  },
  {
   "cell_type": "markdown",
   "id": "2e4da37f",
   "metadata": {
    "papermill": {
     "duration": 0.012851,
     "end_time": "2021-09-08T18:42:31.314647",
     "exception": false,
     "start_time": "2021-09-08T18:42:31.301796",
     "status": "completed"
    },
    "tags": []
   },
   "source": [
    "* ImageDataGenerator class is used to ease out our working with the images.\n",
    "* EfficientNet has been imported to increase our accuracy.\n",
    "* EarlyStopping makes sure that we don't unnecessarily train our model further.\n",
    "* Few filters are added from Keras too."
   ]
  },
  {
   "cell_type": "markdown",
   "id": "856483d3",
   "metadata": {
    "papermill": {
     "duration": 0.012247,
     "end_time": "2021-09-08T18:42:31.339364",
     "exception": false,
     "start_time": "2021-09-08T18:42:31.327117",
     "status": "completed"
    },
    "tags": []
   },
   "source": [
    "**Making Directories**"
   ]
  },
  {
   "cell_type": "code",
   "execution_count": 2,
   "id": "2c01ee99",
   "metadata": {
    "execution": {
     "iopub.execute_input": "2021-09-08T18:42:31.368729Z",
     "iopub.status.busy": "2021-09-08T18:42:31.368220Z",
     "iopub.status.idle": "2021-09-08T18:42:31.402240Z",
     "shell.execute_reply": "2021-09-08T18:42:31.401227Z",
     "shell.execute_reply.started": "2021-09-08T14:46:25.166399Z"
    },
    "papermill": {
     "duration": 0.05063,
     "end_time": "2021-09-08T18:42:31.402355",
     "exception": false,
     "start_time": "2021-09-08T18:42:31.351725",
     "status": "completed"
    },
    "tags": []
   },
   "outputs": [],
   "source": [
    "base_dir = '../input/state-farm-distracted-driver-detection'\n",
    "train_dir = os.path.join(base_dir, 'imgs/train/')\n",
    "test_dir = os.path.join(base_dir, 'imgs/test/')\n",
    "data = pd.read_csv(os.path.join(base_dir, 'driver_imgs_list.csv'))"
   ]
  },
  {
   "cell_type": "markdown",
   "id": "96d0f443",
   "metadata": {
    "papermill": {
     "duration": 0.012648,
     "end_time": "2021-09-08T18:42:31.427350",
     "exception": false,
     "start_time": "2021-09-08T18:42:31.414702",
     "status": "completed"
    },
    "tags": []
   },
   "source": [
    "**Reviewing Dataset**"
   ]
  },
  {
   "cell_type": "code",
   "execution_count": 3,
   "id": "d8ef3dc4",
   "metadata": {
    "execution": {
     "iopub.execute_input": "2021-09-08T18:42:31.467758Z",
     "iopub.status.busy": "2021-09-08T18:42:31.467152Z",
     "iopub.status.idle": "2021-09-08T18:42:31.654579Z",
     "shell.execute_reply": "2021-09-08T18:42:31.654973Z",
     "shell.execute_reply.started": "2021-09-08T14:46:25.210446Z"
    },
    "papermill": {
     "duration": 0.215533,
     "end_time": "2021-09-08T18:42:31.655159",
     "exception": false,
     "start_time": "2021-09-08T18:42:31.439626",
     "status": "completed"
    },
    "tags": []
   },
   "outputs": [
    {
     "data": {
      "image/png": "[encoded data removed]",
      "text/plain": [
       "<Figure size 432x288 with 1 Axes>"
      ]
     },
     "metadata": {
      "needs_background": "light"
     },
     "output_type": "display_data"
    }
   ],
   "source": [
    "data.head()\n",
    "class_count = data.classname.value_counts()\n",
    "fig = class_count.plot(kind='bar')"
   ]
  },
  {
   "cell_type": "markdown",
   "id": "981ec5a1",
   "metadata": {
    "papermill": {
     "duration": 0.013147,
     "end_time": "2021-09-08T18:42:31.681694",
     "exception": false,
     "start_time": "2021-09-08T18:42:31.668547",
     "status": "completed"
    },
    "tags": []
   },
   "source": [
    "**Working With ImageDataGenerator Class**"
   ]
  },
  {
   "cell_type": "code",
   "execution_count": 4,
   "id": "67174b77",
   "metadata": {
    "execution": {
     "iopub.execute_input": "2021-09-08T18:42:31.713446Z",
     "iopub.status.busy": "2021-09-08T18:42:31.712871Z",
     "iopub.status.idle": "2021-09-08T18:42:45.483713Z",
     "shell.execute_reply": "2021-09-08T18:42:45.483034Z",
     "shell.execute_reply.started": "2021-09-08T14:46:25.47845Z"
    },
    "papermill": {
     "duration": 13.789217,
     "end_time": "2021-09-08T18:42:45.483887",
     "exception": false,
     "start_time": "2021-09-08T18:42:31.694670",
     "status": "completed"
    },
    "tags": []
   },
   "outputs": [
    {
     "name": "stdout",
     "output_type": "stream",
     "text": [
      "Found 17943 images belonging to 10 classes.\n",
      "Found 4481 images belonging to 10 classes.\n"
     ]
    }
   ],
   "source": [
    "IMAGE_SIZE = (224,224)\n",
    "BATCH_SIZE = 32\n",
    "\n",
    "train_gen = ImageDataGenerator(\n",
    "    width_shift_range=0.3,\n",
    "    height_shift_range=0.3,\n",
    "    shear_range=0.3,\n",
    "    zoom_range=0.4,\n",
    "    validation_split=0.2)\n",
    "\n",
    "test_gen = ImageDataGenerator()\n",
    "\n",
    "train_data= train_gen.flow_from_directory(\n",
    "    train_dir,\n",
    "    target_size=IMAGE_SIZE,\n",
    "    batch_size=BATCH_SIZE,\n",
    "    seed=42,\n",
    "    subset='training'\n",
    ")\n",
    "\n",
    "val_data = train_gen.flow_from_directory(\n",
    "    train_dir,\n",
    "    target_size=IMAGE_SIZE,\n",
    "    batch_size=BATCH_SIZE,\n",
    "    seed=42,\n",
    "    subset='validation'\n",
    ")"
   ]
  },
  {
   "cell_type": "markdown",
   "id": "e3d89c55",
   "metadata": {
    "papermill": {
     "duration": 0.013413,
     "end_time": "2021-09-08T18:42:45.511769",
     "exception": false,
     "start_time": "2021-09-08T18:42:45.498356",
     "status": "completed"
    },
    "tags": []
   },
   "source": [
    "**Making The Model**"
   ]
  },
  {
   "cell_type": "markdown",
   "id": "6d47cc95",
   "metadata": {
    "papermill": {
     "duration": 0.013341,
     "end_time": "2021-09-08T18:42:45.538611",
     "exception": false,
     "start_time": "2021-09-08T18:42:45.525270",
     "status": "completed"
    },
    "tags": []
   },
   "source": [
    "Using EfficientNets to make our model"
   ]
  },
  {
   "cell_type": "code",
   "execution_count": 5,
   "id": "47bc1e30",
   "metadata": {
    "execution": {
     "iopub.execute_input": "2021-09-08T18:42:45.571905Z",
     "iopub.status.busy": "2021-09-08T18:42:45.571415Z",
     "iopub.status.idle": "2021-09-08T18:42:51.688483Z",
     "shell.execute_reply": "2021-09-08T18:42:51.689301Z",
     "shell.execute_reply.started": "2021-09-08T14:46:39.481337Z"
    },
    "papermill": {
     "duration": 6.137317,
     "end_time": "2021-09-08T18:42:51.689499",
     "exception": false,
     "start_time": "2021-09-08T18:42:45.552182",
     "status": "completed"
    },
    "tags": []
   },
   "outputs": [
    {
     "name": "stdout",
     "output_type": "stream",
     "text": [
      "Downloading data from https://storage.googleapis.com/keras-applications/efficientnetb3_notop.h5\n",
      "43941888/43941136 [==============================] - 0s 0us/step\n",
      "Model: \"model\"\n",
      "_________________________________________________________________\n",
      "Layer (type)                 Output Shape              Param #   \n",
      "=================================================================\n",
      "input_1 (InputLayer)         [(None, 224, 224, 3)]     0         \n",
      "_________________________________________________________________\n",
      "efficientnetb3 (Functional)  (None, None, None, 1536)  10783535  \n",
      "_________________________________________________________________\n",
      "global_average_pooling2d (Gl (None, 1536)              0         \n",
      "_________________________________________________________________\n",
      "batch_normalization (BatchNo (None, 1536)              6144      \n",
      "_________________________________________________________________\n",
      "dropout (Dropout)            (None, 1536)              0         \n",
      "_________________________________________________________________\n",
      "dense (Dense)                (None, 10)                15370     \n",
      "=================================================================\n",
      "Total params: 10,805,049\n",
      "Trainable params: 10,714,674\n",
      "Non-trainable params: 90,375\n",
      "_________________________________________________________________\n"
     ]
    }
   ],
   "source": [
    "def define_model(num_classes):\n",
    "    inputs = Input(shape=(224,224,3))\n",
    "    base_model = EfficientNetB3(include_top=False, weights='imagenet')(inputs)\n",
    "    x = GlobalAveragePooling2D()(base_model)\n",
    "    x = BatchNormalization()(x)\n",
    "    x = Dropout(0.2)(x)\n",
    "    output = Dense(units=num_classes, activation='softmax')(x)\n",
    "    \n",
    "    model = Model(inputs=inputs, outputs=output)\n",
    "    model.compile(optimizer=tf.optimizers.Adam(learning_rate=1e-4), \n",
    "                  loss='categorical_crossentropy',\n",
    "                 metrics=['accuracy'])\n",
    "    return model\n",
    "\n",
    "model = define_model(10)\n",
    "model.summary()"
   ]
  },
  {
   "cell_type": "markdown",
   "id": "64f80ea4",
   "metadata": {
    "papermill": {
     "duration": 0.015746,
     "end_time": "2021-09-08T18:42:51.722897",
     "exception": false,
     "start_time": "2021-09-08T18:42:51.707151",
     "status": "completed"
    },
    "tags": []
   },
   "source": [
    "**Training Our Model**"
   ]
  },
  {
   "cell_type": "code",
   "execution_count": 6,
   "id": "209ec007",
   "metadata": {
    "execution": {
     "iopub.execute_input": "2021-09-08T18:42:51.774759Z",
     "iopub.status.busy": "2021-09-08T18:42:51.773808Z",
     "iopub.status.idle": "2021-09-08T21:12:11.821415Z",
     "shell.execute_reply": "2021-09-08T21:12:11.822113Z",
     "shell.execute_reply.started": "2021-09-08T14:46:48.120056Z"
    },
    "papermill": {
     "duration": 8960.08352,
     "end_time": "2021-09-08T21:12:11.822323",
     "exception": false,
     "start_time": "2021-09-08T18:42:51.738803",
     "status": "completed"
    },
    "tags": []
   },
   "outputs": [
    {
     "name": "stdout",
     "output_type": "stream",
     "text": [
      "Epoch 1/20\n",
      "561/561 [==============================] - 544s 937ms/step - loss: 1.4381 - accuracy: 0.5545 - val_loss: 0.1640 - val_accuracy: 0.9496\n",
      "Epoch 2/20\n",
      "561/561 [==============================] - 432s 769ms/step - loss: 0.2245 - accuracy: 0.9287 - val_loss: 0.0938 - val_accuracy: 0.9719\n",
      "Epoch 3/20\n",
      "561/561 [==============================] - 445s 792ms/step - loss: 0.1242 - accuracy: 0.9619 - val_loss: 0.0869 - val_accuracy: 0.9766\n",
      "Epoch 4/20\n",
      "561/561 [==============================] - 433s 772ms/step - loss: 0.0871 - accuracy: 0.9735 - val_loss: 0.0569 - val_accuracy: 0.9799\n",
      "Epoch 5/20\n",
      "561/561 [==============================] - 435s 775ms/step - loss: 0.0689 - accuracy: 0.9770 - val_loss: 0.0484 - val_accuracy: 0.9850\n",
      "Epoch 6/20\n",
      "561/561 [==============================] - 435s 774ms/step - loss: 0.0594 - accuracy: 0.9822 - val_loss: 0.0367 - val_accuracy: 0.9895\n",
      "Epoch 7/20\n",
      "561/561 [==============================] - 436s 776ms/step - loss: 0.0520 - accuracy: 0.9841 - val_loss: 0.0336 - val_accuracy: 0.9902\n",
      "Epoch 8/20\n",
      "561/561 [==============================] - 439s 782ms/step - loss: 0.0525 - accuracy: 0.9832 - val_loss: 0.0336 - val_accuracy: 0.9893\n",
      "Epoch 9/20\n",
      "561/561 [==============================] - 438s 779ms/step - loss: 0.0450 - accuracy: 0.9852 - val_loss: 0.0281 - val_accuracy: 0.9906\n",
      "Epoch 10/20\n",
      "561/561 [==============================] - 439s 781ms/step - loss: 0.0353 - accuracy: 0.9890 - val_loss: 0.0317 - val_accuracy: 0.9906\n",
      "Epoch 11/20\n",
      "561/561 [==============================] - 450s 801ms/step - loss: 0.0398 - accuracy: 0.9887 - val_loss: 0.0315 - val_accuracy: 0.9920\n",
      "Epoch 12/20\n",
      "561/561 [==============================] - 456s 812ms/step - loss: 0.0359 - accuracy: 0.9879 - val_loss: 0.0341 - val_accuracy: 0.9891\n",
      "Epoch 13/20\n",
      "561/561 [==============================] - 442s 787ms/step - loss: 0.0312 - accuracy: 0.9898 - val_loss: 0.0339 - val_accuracy: 0.9902\n",
      "Epoch 14/20\n",
      "561/561 [==============================] - 440s 784ms/step - loss: 0.0356 - accuracy: 0.9893 - val_loss: 0.0212 - val_accuracy: 0.9929\n",
      "Epoch 15/20\n",
      "561/561 [==============================] - 440s 783ms/step - loss: 0.0258 - accuracy: 0.9924 - val_loss: 0.0193 - val_accuracy: 0.9929\n",
      "Epoch 16/20\n",
      "561/561 [==============================] - 445s 792ms/step - loss: 0.0244 - accuracy: 0.9927 - val_loss: 0.0207 - val_accuracy: 0.9949\n",
      "Epoch 17/20\n",
      "561/561 [==============================] - 448s 797ms/step - loss: 0.0262 - accuracy: 0.9919 - val_loss: 0.0230 - val_accuracy: 0.9913\n",
      "Epoch 18/20\n",
      "561/561 [==============================] - 450s 801ms/step - loss: 0.0235 - accuracy: 0.9927 - val_loss: 0.0246 - val_accuracy: 0.9933\n",
      "Epoch 19/20\n",
      "561/561 [==============================] - 448s 798ms/step - loss: 0.0270 - accuracy: 0.9919 - val_loss: 0.0321 - val_accuracy: 0.9929\n",
      "Epoch 20/20\n",
      "561/561 [==============================] - 448s 798ms/step - loss: 0.0228 - accuracy: 0.9924 - val_loss: 0.0281 - val_accuracy: 0.9926\n"
     ]
    }
   ],
   "source": [
    "checkpoint_callback = ModelCheckpoint('best_model.hdf5', save_best_only=True, monitor='val_loss', mode='min')\n",
    "es = EarlyStopping(monitor='val_loss', patience=5)\n",
    "history = model.fit(train_data, epochs=20, validation_data=val_data, callbacks=[es, checkpoint_callback])"
   ]
  },
  {
   "cell_type": "markdown",
   "id": "0e73321c",
   "metadata": {
    "papermill": {
     "duration": 3.099361,
     "end_time": "2021-09-08T21:12:17.766829",
     "exception": false,
     "start_time": "2021-09-08T21:12:14.667468",
     "status": "completed"
    },
    "tags": []
   },
   "source": [
    "**Evaluating Our Model**"
   ]
  },
  {
   "cell_type": "code",
   "execution_count": 7,
   "id": "a7bc74b6",
   "metadata": {
    "execution": {
     "iopub.execute_input": "2021-09-08T21:12:23.613183Z",
     "iopub.status.busy": "2021-09-08T21:12:23.612358Z",
     "iopub.status.idle": "2021-09-08T21:12:23.926359Z",
     "shell.execute_reply": "2021-09-08T21:12:23.926772Z",
     "shell.execute_reply.started": "2021-09-08T17:24:13.342203Z"
    },
    "papermill": {
     "duration": 3.232994,
     "end_time": "2021-09-08T21:12:23.926916",
     "exception": false,
     "start_time": "2021-09-08T21:12:20.693922",
     "status": "completed"
    },
    "tags": []
   },
   "outputs": [
    {
     "data": {
      "text/plain": [
       "<matplotlib.legend.Legend at 0x7f15745a5710>"
      ]
     },
     "execution_count": 7,
     "metadata": {},
     "output_type": "execute_result"
    },
    {
     "data": {
      "image/png": "[encoded data removed]",
      "text/plain": [
       "<Figure size 864x360 with 2 Axes>"
      ]
     },
     "metadata": {
      "needs_background": "light"
     },
     "output_type": "display_data"
    }
   ],
   "source": [
    "plt.figure(figsize=(12,5))\n",
    "plt.subplot(1,2,1)\n",
    "plt.plot(history.history['loss'])\n",
    "plt.plot(history.history['val_loss'])\n",
    "plt.title('Loss')\n",
    "plt.xlabel('epoch')\n",
    "plt.ylabel('loss')\n",
    "plt.legend(['train', 'val'])\n",
    "\n",
    "plt.subplot(1,2,2)\n",
    "plt.plot(history.history['accuracy'])\n",
    "plt.plot(history.history['val_accuracy'])\n",
    "plt.title('Accuracy')\n",
    "plt.xlabel('epoch')\n",
    "plt.ylabel('acc')\n",
    "plt.legend(['train', 'val'])"
   ]
  },
  {
   "cell_type": "markdown",
   "id": "7f696121",
   "metadata": {
    "papermill": {
     "duration": 3.159372,
     "end_time": "2021-09-08T21:12:29.951524",
     "exception": false,
     "start_time": "2021-09-08T21:12:26.792152",
     "status": "completed"
    },
    "tags": []
   },
   "source": [
    "**Predictions**"
   ]
  },
  {
   "cell_type": "code",
   "execution_count": 8,
   "id": "5f3cf626",
   "metadata": {
    "execution": {
     "iopub.execute_input": "2021-09-08T21:12:35.769746Z",
     "iopub.status.busy": "2021-09-08T21:12:35.769191Z",
     "iopub.status.idle": "2021-09-08T21:15:56.411844Z",
     "shell.execute_reply": "2021-09-08T21:15:56.412355Z",
     "shell.execute_reply.started": "2021-09-08T17:24:13.758654Z"
    },
    "papermill": {
     "duration": 203.585947,
     "end_time": "2021-09-08T21:15:56.412519",
     "exception": false,
     "start_time": "2021-09-08T21:12:32.826572",
     "status": "completed"
    },
    "tags": []
   },
   "outputs": [
    {
     "name": "stdout",
     "output_type": "stream",
     "text": [
      "Found 79726 images belonging to 1 classes.\n"
     ]
    }
   ],
   "source": [
    "test_dir = os.path.join(base_dir, 'imgs')\n",
    "\n",
    "test_data = test_gen.flow_from_directory(\n",
    "    test_dir,\n",
    "    shuffle=False,\n",
    "    target_size=IMAGE_SIZE,\n",
    "    classes=['test'],\n",
    "    batch_size=BATCH_SIZE\n",
    ")"
   ]
  },
  {
   "cell_type": "code",
   "execution_count": 9,
   "id": "374012ab",
   "metadata": {
    "execution": {
     "iopub.execute_input": "2021-09-08T21:16:02.551328Z",
     "iopub.status.busy": "2021-09-08T21:16:02.550689Z",
     "iopub.status.idle": "2021-09-08T21:31:26.965168Z",
     "shell.execute_reply": "2021-09-08T21:31:26.964651Z",
     "shell.execute_reply.started": "2021-09-08T17:26:56.258187Z"
    },
    "papermill": {
     "duration": 927.380799,
     "end_time": "2021-09-08T21:31:26.965304",
     "exception": false,
     "start_time": "2021-09-08T21:15:59.584505",
     "status": "completed"
    },
    "tags": []
   },
   "outputs": [],
   "source": [
    "preds = model.predict(test_data)"
   ]
  },
  {
   "cell_type": "code",
   "execution_count": 10,
   "id": "3967d229",
   "metadata": {
    "execution": {
     "iopub.execute_input": "2021-09-08T21:31:33.059043Z",
     "iopub.status.busy": "2021-09-08T21:31:33.058470Z",
     "iopub.status.idle": "2021-09-08T21:41:03.656817Z",
     "shell.execute_reply": "2021-09-08T21:41:03.656322Z",
     "shell.execute_reply.started": "2021-09-08T17:42:58.629006Z"
    },
    "papermill": {
     "duration": 573.79947,
     "end_time": "2021-09-08T21:41:03.656956",
     "exception": false,
     "start_time": "2021-09-08T21:31:29.857486",
     "status": "completed"
    },
    "tags": []
   },
   "outputs": [],
   "source": [
    "test_imgs = os.path.join(base_dir, \"imgs/test\")\n",
    "\n",
    "test_ids = sorted(os.listdir(test_imgs))\n",
    "pred_df = pd.DataFrame(columns = ['img','c0', 'c1', 'c2', 'c3', 'c4', 'c5', 'c6', 'c7', 'c8', 'c9'])\n",
    "for i in range(len(preds)):\n",
    "    pred_df.loc[i, 'img'] = test_ids[i]\n",
    "    pred_df.loc[i, 'c0':'c9'] = preds[i]\n",
    "    \n",
    "pred_df.to_csv('submission.csv', index=False)"
   ]
  },
  {
   "cell_type": "markdown",
   "id": "29ac01bc",
   "metadata": {
    "papermill": {
     "duration": 2.936785,
     "end_time": "2021-09-08T21:41:09.710992",
     "exception": false,
     "start_time": "2021-09-08T21:41:06.774207",
     "status": "completed"
    },
    "tags": []
   },
   "source": [
    "**Completed**"
   ]
  },
  {
   "cell_type": "code",
   "execution_count": null,
   "id": "a82559ab",
   "metadata": {
    "papermill": {
     "duration": 3.159607,
     "end_time": "2021-09-08T21:41:15.724158",
     "exception": false,
     "start_time": "2021-09-08T21:41:12.564551",
     "status": "completed"
    },
    "tags": []
   },
   "outputs": [],
   "source": []
  }
 ],
 "metadata": {
  "kernelspec": {
   "display_name": "Python 3",
   "language": "python",
   "name": "python3"
  },
  "language_info": {
   "codemirror_mode": {
    "name": "ipython",
    "version": 3
   },
   "file_extension": ".py",
   "mimetype": "text/x-python",
   "name": "python",
   "nbconvert_exporter": "python",
   "pygments_lexer": "ipython3",
   "version": "3.7.10"
  },
  "papermill": {
   "default_parameters": {},
   "duration": 10741.325451,
   "end_time": "2021-09-08T21:41:21.623499",
   "environment_variables": {},
   "exception": null,
   "input_path": "__notebook__.ipynb",
   "output_path": "__notebook__.ipynb",
   "parameters": {},
   "start_time": "2021-09-08T18:42:20.298048",
   "version": "2.3.3"
  }
 },
 "nbformat": 4,
 "nbformat_minor": 5
}
